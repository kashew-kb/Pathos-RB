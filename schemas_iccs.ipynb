{
 "cells": [
  {
   "cell_type": "code",
   "execution_count": 1,
   "metadata": {},
   "outputs": [],
   "source": [
    "from pathos_config import *"
   ]
  },
  {
   "cell_type": "markdown",
   "metadata": {},
   "source": [
    "# Loading Schemas"
   ]
  },
  {
   "cell_type": "code",
   "execution_count": 2,
   "metadata": {},
   "outputs": [
    {
     "data": {
      "text/plain": [
       "<sqlalchemy.engine.result.ResultProxy at 0x1c3a6ab2bb0>"
      ]
     },
     "execution_count": 2,
     "metadata": {},
     "output_type": "execute_result"
    }
   ],
   "source": [
    "schema_final_string='''create SCHEMA IF NOT EXISTS pathos_iccs_schema;\n",
    "'''   \n",
    "engine.execute(schema_final_string)"
   ]
  },
  {
   "cell_type": "markdown",
   "metadata": {},
   "source": [
    "# Dimension Schema"
   ]
  },
  {
   "cell_type": "markdown",
   "metadata": {},
   "source": [
    "## PATHOS_CL_MASTER_DIM_MAPPING"
   ]
  },
  {
   "cell_type": "code",
   "execution_count": 2,
   "metadata": {},
   "outputs": [
    {
     "data": {
      "text/plain": [
       "<sqlalchemy.engine.result.ResultProxy at 0x1abfe3e3ac0>"
      ]
     },
     "execution_count": 2,
     "metadata": {},
     "output_type": "execute_result"
    }
   ],
   "source": [
    "schema_final_string='''create table  IF NOT EXISTS pathos_iccs_schema.PATHOS_CL_MASTER_DIM_MAPPING(\n",
    "\t\tDIMENSION_ID \t\t\t\t\tNUMERIC \t\t\t\t\tPRIMARY KEY,\n",
    "\t\tDIMENSION_CODE\t\t\t\t\tVARCHAR(100) \t\t\t\tUNIQUE NOT NULL,\t\n",
    "\t\tDIMENSION_DESC\t\t\t\t\tVARCHAR(100) \t\t\t\t,\t\n",
    "\t\tDIM_ACTIVE_REPORTING\t\t\tCHAR(1) \t\t\t\t\tNOT NULL,\t\n",
    "\t\tDIM_USE_FOR_SUMMARY\t\t\t\tCHAR(1) \t\t\t\t\tNOT NULL,\t\t\n",
    "\t\tDIM_SEQUENCE\t\t\t\t\tNUMERIC\t\t\t\t\t\tNOT NULL,\t\t\t\n",
    "\t\tDIMENSION_DATA_TABLE\t\t\tVARCHAR(100) \t\t\t\tUNIQUE NOT NULL,\t\t\t\t\n",
    "\t\tDIM_SQL\t\t\t\t\t\t\tTEXT,\t\n",
    "\t\tCREATED_ON \tTIMESTAMP WITH TIME ZONE \tDEFAULT CURRENT_TIMESTAMP NOT NULL,\n",
    "\t\tCREATED_BY \tVARCHAR(100)\t\t\t\tNOT NULL DEFAULT 'System',\n",
    "\t\tUPDATED_ON \tTIMESTAMP WITH TIME ZONE \tDEFAULT CURRENT_TIMESTAMP NOT NULL,\n",
    "\t\tUPDATED_BY \tVARCHAR(100)\t\t\t\tNOT NULL DEFAULT 'System'\n",
    ");\n",
    "''' \n",
    "    \n",
    "engine.execute(schema_final_string)"
   ]
  },
  {
   "cell_type": "markdown",
   "metadata": {},
   "source": [
    "## PATHOS_CL_MASTER_TIME"
   ]
  },
  {
   "cell_type": "code",
   "execution_count": 4,
   "metadata": {},
   "outputs": [
    {
     "data": {
      "text/plain": [
       "<sqlalchemy.engine.result.ResultProxy at 0x15576342dc0>"
      ]
     },
     "execution_count": 4,
     "metadata": {},
     "output_type": "execute_result"
    }
   ],
   "source": [
    "schema_final_string='''create table  IF NOT EXISTS pathos_iccs_schema.PATHOS_CL_MASTER_TIME(\n",
    "\t\tDIM_VAL_ID \t\t\t\t\tNUMERIC \t\t\t\t\t\tPRIMARY KEY,\n",
    "\t\tDIM_VALUE_NAME\t\t\t\t\tVARCHAR(100) \t\t\t\tUNIQUE NOT NULL,\t\n",
    "\t\tDIM_VALUE_DESC\t\t\t\t\tVARCHAR(100) \t\t\t\t,\t\n",
    "\t\tDIM_ACTIVE_REPORTING\t\t\tCHAR(1) \t\t\t\t\tNOT NULL,\t\n",
    "\t\tDIM_ACTIVE_PROCESSSING\t\t\tCHAR(1) \t\t\t\t\t,\t\t\n",
    "\t\tCHILD_RECORD\t\t\t\t\tCHAR(1) \t\t\t\t\t,\t\t\n",
    "\t\tPARENT_RECORD_ID \t\t\t\tNUMERIC\t\t\t\t\t\tDEFAULT NULL, \t\t\t\n",
    "\t\tHIERARCHY_LEVEL\t\t\t\t\tNUMERIC\t\t\t\t\t\tNOT NULL,\t\t\t\n",
    "\t\tCREATED_ON \tTIMESTAMP WITH TIME ZONE \tDEFAULT CURRENT_TIMESTAMP NOT NULL,\n",
    "\t\tCREATED_BY \tVARCHAR(100)\t\t\t\tNOT NULL DEFAULT 'System',\n",
    "\t\tUPDATED_ON \tTIMESTAMP WITH TIME ZONE \tDEFAULT CURRENT_TIMESTAMP NOT NULL,\n",
    "\t\tUPDATED_BY \tVARCHAR(100)\t\t\t\tNOT NULL DEFAULT 'System'\n",
    ");\n",
    "''' \n",
    "    \n",
    "engine.execute(schema_final_string)"
   ]
  },
  {
   "cell_type": "markdown",
   "metadata": {},
   "source": [
    "## pathos_cl_master_prod_serv_cf8"
   ]
  },
  {
   "cell_type": "code",
   "execution_count": 2,
   "metadata": {},
   "outputs": [
    {
     "data": {
      "text/plain": [
       "<sqlalchemy.engine.result.ResultProxy at 0x2167e7c8a30>"
      ]
     },
     "execution_count": 2,
     "metadata": {},
     "output_type": "execute_result"
    }
   ],
   "source": [
    "schema_final_string='''create table  IF NOT EXISTS pathos_iccs_schema.pathos_cl_master_prod_serv_cf8(\n",
    "\t\tDIM_VAL_ID \t\t\t\t\tNUMERIC \t\t\t\t\t\tPRIMARY KEY,\n",
    "\t\tDIM_VALUE_NAME\t\t\t\t\tVARCHAR(100) \t\t\t\tUNIQUE NOT NULL,\t\n",
    "\t\tDIM_VALUE_DESC\t\t\t\t\tTEXT \t\t\t\t,\t\n",
    "\t\tDIM_ACTIVE_REPORTING\t\t\tCHAR(1) \t\t\t\t\t,\t\n",
    "\t\tDIM_ACTIVE_PROCESSSING\t\t\tCHAR(1) \t\t\t\t\t,\t\t\n",
    "\t\tCHILD_RECORD\t\t\t\t\tCHAR(1) \t\t\t\t\t,\t\t\n",
    "\t\tPARENT_RECORD_ID \t\t\t\tNUMERIC\t\t\t\t\t\tDEFAULT NULL, \t\t\t\n",
    "\t\tHIERARCHY_LEVEL\t\t\t\t\tNUMERIC\t\t\t\t\t\t,\t\t\t\n",
    "        cat_mpi TEXT,\n",
    "        category TEXT,\n",
    "\t\tCREATED_ON \tTIMESTAMP WITH TIME ZONE \tDEFAULT CURRENT_TIMESTAMP NOT NULL,\n",
    "\t\tCREATED_BY \tVARCHAR(100)\t\t\t\tNOT NULL DEFAULT 'System',\n",
    "\t\tUPDATED_ON \tTIMESTAMP WITH TIME ZONE \tDEFAULT CURRENT_TIMESTAMP NOT NULL,\n",
    "\t\tUPDATED_BY \tVARCHAR(100)\t\t\t\tNOT NULL DEFAULT 'System'\n",
    ");\n",
    "''' \n",
    "    \n",
    "engine.execute(schema_final_string)"
   ]
  },
  {
   "cell_type": "markdown",
   "metadata": {},
   "source": [
    "## pathos_cl_master_prod_serv_cf7"
   ]
  },
  {
   "cell_type": "code",
   "execution_count": 3,
   "metadata": {},
   "outputs": [
    {
     "data": {
      "text/plain": [
       "<sqlalchemy.engine.result.ResultProxy at 0x2167e7cf9d0>"
      ]
     },
     "execution_count": 3,
     "metadata": {},
     "output_type": "execute_result"
    }
   ],
   "source": [
    "schema_final_string='''create table  IF NOT EXISTS pathos_iccs_schema.pathos_cl_master_prod_serv_cf7(\n",
    "\t\tDIM_VAL_ID \t\t\t\t\tNUMERIC \t\t\t\t\t\tPRIMARY KEY,\n",
    "\t\tDIM_VALUE_NAME\t\t\t\t\tVARCHAR(100) \t\t\t\tUNIQUE NOT NULL,\t\n",
    "\t\tDIM_VALUE_DESC\t\t\t\t\tTEXT \t\t\t\t,\t\n",
    "\t\tDIM_ACTIVE_REPORTING\t\t\tCHAR(1) \t\t\t\t\t,\t\n",
    "\t\tDIM_ACTIVE_PROCESSSING\t\t\tCHAR(1) \t\t\t\t\t,\t\t\n",
    "\t\tCHILD_RECORD\t\t\t\t\tCHAR(1) \t\t\t\t\t,\t\t\n",
    "\t\tPARENT_RECORD_ID \t\t\t\tNUMERIC\t\t\t\t\t\tDEFAULT NULL, \t\t\t\n",
    "\t\tHIERARCHY_LEVEL\t\t\t\t\tNUMERIC\t\t\t\t\t\t,\t\t\t\n",
    "        cat_mpi TEXT,\n",
    "        category TEXT,\n",
    "\t\tCREATED_ON \tTIMESTAMP WITH TIME ZONE \tDEFAULT CURRENT_TIMESTAMP NOT NULL,\n",
    "\t\tCREATED_BY \tVARCHAR(100)\t\t\t\tNOT NULL DEFAULT 'System',\n",
    "\t\tUPDATED_ON \tTIMESTAMP WITH TIME ZONE \tDEFAULT CURRENT_TIMESTAMP NOT NULL,\n",
    "\t\tUPDATED_BY \tVARCHAR(100)\t\t\t\tNOT NULL DEFAULT 'System'\n",
    ");\n",
    "''' \n",
    "    \n",
    "engine.execute(schema_final_string)"
   ]
  },
  {
   "cell_type": "markdown",
   "metadata": {},
   "source": [
    "## pathos_cl_master_channel"
   ]
  },
  {
   "cell_type": "code",
   "execution_count": 6,
   "metadata": {},
   "outputs": [
    {
     "data": {
      "text/plain": [
       "<sqlalchemy.engine.result.ResultProxy at 0x1557639f220>"
      ]
     },
     "execution_count": 6,
     "metadata": {},
     "output_type": "execute_result"
    }
   ],
   "source": [
    "schema_final_string='''create table  IF NOT EXISTS pathos_rb_schema.pathos_cl_master_channel(\n",
    "\t\tDIM_VAL_ID \t\t\t\t\tNUMERIC \t\t\t\t\t\tPRIMARY KEY,\n",
    "\t\tDIM_VALUE_NAME\t\t\t\t\tVARCHAR(100) \t\t\t\tUNIQUE NOT NULL,\t\n",
    "\t\tDIM_VALUE_DESC\t\t\t\t\tVARCHAR(100) \t\t\t\t,\t\n",
    "\t\tDIM_ACTIVE_REPORTING\t\t\tCHAR(1) \t\t\t\t\tNOT NULL,\t\n",
    "\t\tDIM_ACTIVE_PROCESSSING\t\t\tCHAR(1) \t\t\t\t\t,\t\t\n",
    "\t\tCHILD_RECORD\t\t\t\t\tCHAR(1) \t\t\t\t\t,\t\t\n",
    "\t\tPARENT_RECORD_ID \t\t\t\tNUMERIC\t\t\t\t\t\tDEFAULT NULL, \t\t\t\n",
    "\t\tHIERARCHY_LEVEL\t\t\t\t\tNUMERIC\t\t\t\t\t\tNOT NULL,\t\t\t\n",
    "\t\tCREATED_ON \tTIMESTAMP WITH TIME ZONE \tDEFAULT CURRENT_TIMESTAMP NOT NULL,\n",
    "\t\tCREATED_BY \tVARCHAR(100)\t\t\t\tNOT NULL DEFAULT 'System',\n",
    "\t\tUPDATED_ON \tTIMESTAMP WITH TIME ZONE \tDEFAULT CURRENT_TIMESTAMP NOT NULL,\n",
    "\t\tUPDATED_BY \tVARCHAR(100)\t\t\t\tNOT NULL DEFAULT 'System'\n",
    ");\n",
    "''' \n",
    "    \n",
    "engine.execute(schema_final_string)"
   ]
  },
  {
   "cell_type": "markdown",
   "metadata": {},
   "source": [
    "## PATHOS_CL_MASTER_AGE"
   ]
  },
  {
   "cell_type": "code",
   "execution_count": 7,
   "metadata": {},
   "outputs": [
    {
     "data": {
      "text/plain": [
       "<sqlalchemy.engine.result.ResultProxy at 0x15573c8fd90>"
      ]
     },
     "execution_count": 7,
     "metadata": {},
     "output_type": "execute_result"
    }
   ],
   "source": [
    "schema_final_string='''create table  IF NOT EXISTS pathos_iccs_schema.PATHOS_CL_MASTER_AGE(\n",
    "\t\tDIM_VAL_ID \t\t\t\t\tNUMERIC \t\t\t\t\t\tPRIMARY KEY,\n",
    "\t\tDIM_VALUE_NAME\t\t\t\t\tVARCHAR(100) \t\t\t\tUNIQUE NOT NULL,\t\n",
    "\t\tDIM_VALUE_DESC\t\t\t\t\tVARCHAR(100) \t\t\t\t,\t\n",
    "\t\tDIM_ACTIVE_REPORTING\t\t\tCHAR(1) \t\t\t\t\tNOT NULL,\t\n",
    "\t\tDIM_ACTIVE_PROCESSSING\t\t\tCHAR(1) \t\t\t\t\t,\t\t\n",
    "\t\tCHILD_RECORD\t\t\t\t\tCHAR(1) \t\t\t\t\t,\t\t\n",
    "\t\tPARENT_RECORD_ID \t\t\t\tNUMERIC\t\t\t\t\t\tDEFAULT NULL, \t\t\t\n",
    "\t\tHIERARCHY_LEVEL\t\t\t\t\tNUMERIC\t\t\t\t\t\tNOT NULL,\t\t\t\n",
    "\t\tCREATED_ON \tTIMESTAMP WITH TIME ZONE \tDEFAULT CURRENT_TIMESTAMP NOT NULL,\n",
    "\t\tCREATED_BY \tVARCHAR(100)\t\t\t\tNOT NULL DEFAULT 'System',\n",
    "\t\tUPDATED_ON \tTIMESTAMP WITH TIME ZONE \tDEFAULT CURRENT_TIMESTAMP NOT NULL,\n",
    "\t\tUPDATED_BY \tVARCHAR(100)\t\t\t\tNOT NULL DEFAULT 'System'\n",
    ");\n",
    "''' \n",
    "    \n",
    "engine.execute(schema_final_string)"
   ]
  },
  {
   "cell_type": "markdown",
   "metadata": {},
   "source": [
    "## PATHOS_CL_MASTER_GENDER"
   ]
  },
  {
   "cell_type": "code",
   "execution_count": 8,
   "metadata": {},
   "outputs": [
    {
     "data": {
      "text/plain": [
       "<sqlalchemy.engine.result.ResultProxy at 0x15576353bb0>"
      ]
     },
     "execution_count": 8,
     "metadata": {},
     "output_type": "execute_result"
    }
   ],
   "source": [
    "schema_final_string='''create table  IF NOT EXISTS pathos_iccs_schema.PATHOS_CL_MASTER_GENDER(\n",
    "\t\tDIM_VAL_ID \t\t\t\t\tNUMERIC \t\t\t\t\t\tPRIMARY KEY,\n",
    "\t\tDIM_VALUE_NAME\t\t\t\t\tVARCHAR(100) \t\t\t\tUNIQUE NOT NULL,\t\n",
    "\t\tDIM_VALUE_DESC\t\t\t\t\tVARCHAR(100) \t\t\t\t,\t\n",
    "\t\tDIM_ACTIVE_REPORTING\t\t\tCHAR(1) \t\t\t\t\tNOT NULL,\t\n",
    "\t\tDIM_ACTIVE_PROCESSSING\t\t\tCHAR(1) \t\t\t\t\t,\t\t\n",
    "\t\tCHILD_RECORD\t\t\t\t\tCHAR(1) \t\t\t\t\t,\t\t\n",
    "\t\tPARENT_RECORD_ID \t\t\t\tNUMERIC\t\t\t\t\t\tDEFAULT NULL, \t\t\t\n",
    "\t\tHIERARCHY_LEVEL\t\t\t\t\tNUMERIC\t\t\t\t\t\tNOT NULL,\t\t\t\n",
    "\t\tCREATED_ON \tTIMESTAMP WITH TIME ZONE \tDEFAULT CURRENT_TIMESTAMP NOT NULL,\n",
    "\t\tCREATED_BY \tVARCHAR(100)\t\t\t\tNOT NULL DEFAULT 'System',\n",
    "\t\tUPDATED_ON \tTIMESTAMP WITH TIME ZONE \tDEFAULT CURRENT_TIMESTAMP NOT NULL,\n",
    "\t\tUPDATED_BY \tVARCHAR(100)\t\t\t\tNOT NULL DEFAULT 'System'\n",
    ");\n",
    "''' \n",
    "    \n",
    "engine.execute(schema_final_string)"
   ]
  },
  {
   "cell_type": "markdown",
   "metadata": {},
   "source": [
    "## PATHOS_CL_MASTER_INCOME"
   ]
  },
  {
   "cell_type": "code",
   "execution_count": 9,
   "metadata": {},
   "outputs": [
    {
     "data": {
      "text/plain": [
       "<sqlalchemy.engine.result.ResultProxy at 0x15573c83520>"
      ]
     },
     "execution_count": 9,
     "metadata": {},
     "output_type": "execute_result"
    }
   ],
   "source": [
    "schema_final_string='''create table  IF NOT EXISTS pathos_iccs_schema.PATHOS_CL_MASTER_INCOME(\n",
    "\t\tDIM_VAL_ID \t\t\t\t\tNUMERIC \t\t\t\t\t\tPRIMARY KEY,\n",
    "\t\tDIM_VALUE_NAME\t\t\t\t\tVARCHAR(100) \t\t\t\tUNIQUE NOT NULL,\t\n",
    "\t\tDIM_VALUE_DESC\t\t\t\t\tVARCHAR(100) \t\t\t\t,\t\n",
    "\t\tDIM_ACTIVE_REPORTING\t\t\tCHAR(1) \t\t\t\t\tNOT NULL,\t\n",
    "\t\tDIM_ACTIVE_PROCESSSING\t\t\tCHAR(1) \t\t\t\t\t,\t\t\n",
    "\t\tCHILD_RECORD\t\t\t\t\tCHAR(1) \t\t\t\t\t,\t\t\n",
    "\t\tPARENT_RECORD_ID \t\t\t\tNUMERIC\t\t\t\t\t\tDEFAULT NULL, \t\t\t\n",
    "\t\tHIERARCHY_LEVEL\t\t\t\t\tNUMERIC\t\t\t\t\t\tNOT NULL,\t\t\t\n",
    "\t\tCREATED_ON \tTIMESTAMP WITH TIME ZONE \tDEFAULT CURRENT_TIMESTAMP NOT NULL,\n",
    "\t\tCREATED_BY \tVARCHAR(100)\t\t\t\tNOT NULL DEFAULT 'System',\n",
    "\t\tUPDATED_ON \tTIMESTAMP WITH TIME ZONE \tDEFAULT CURRENT_TIMESTAMP NOT NULL,\n",
    "\t\tUPDATED_BY \tVARCHAR(100)\t\t\t\tNOT NULL DEFAULT 'System'\n",
    ");\n",
    "''' \n",
    "    \n",
    "engine.execute(schema_final_string)"
   ]
  },
  {
   "cell_type": "markdown",
   "metadata": {},
   "source": [
    "## PATHOS_CL_MASTER_OCCUPATION"
   ]
  },
  {
   "cell_type": "code",
   "execution_count": 10,
   "metadata": {},
   "outputs": [
    {
     "data": {
      "text/plain": [
       "<sqlalchemy.engine.result.ResultProxy at 0x15573c8f310>"
      ]
     },
     "execution_count": 10,
     "metadata": {},
     "output_type": "execute_result"
    }
   ],
   "source": [
    "schema_final_string='''create table  IF NOT EXISTS pathos_iccs_schema.PATHOS_CL_MASTER_OCCUPATION(\n",
    "\t\tDIM_VAL_ID \t\t\t\t\tNUMERIC \t\t\t\t\t\tPRIMARY KEY,\n",
    "\t\tDIM_VALUE_NAME\t\t\t\t\tVARCHAR(100) \t\t\t\tUNIQUE NOT NULL,\t\n",
    "\t\tDIM_VALUE_DESC\t\t\t\t\tVARCHAR(100) \t\t\t\t,\t\n",
    "\t\tDIM_ACTIVE_REPORTING\t\t\tCHAR(1) \t\t\t\t\tNOT NULL,\t\n",
    "\t\tDIM_ACTIVE_PROCESSSING\t\t\tCHAR(1) \t\t\t\t\t,\t\t\n",
    "\t\tCHILD_RECORD\t\t\t\t\tCHAR(1) \t\t\t\t\t,\t\t\n",
    "\t\tPARENT_RECORD_ID \t\t\t\tNUMERIC\t\t\t\t\t\tDEFAULT NULL, \t\t\t\n",
    "\t\tHIERARCHY_LEVEL\t\t\t\t\tNUMERIC\t\t\t\t\t\tNOT NULL,\t\t\t\n",
    "\t\tCREATED_ON \tTIMESTAMP WITH TIME ZONE \tDEFAULT CURRENT_TIMESTAMP NOT NULL,\n",
    "\t\tCREATED_BY \tVARCHAR(100)\t\t\t\tNOT NULL DEFAULT 'System',\n",
    "\t\tUPDATED_ON \tTIMESTAMP WITH TIME ZONE \tDEFAULT CURRENT_TIMESTAMP NOT NULL,\n",
    "\t\tUPDATED_BY \tVARCHAR(100)\t\t\t\tNOT NULL DEFAULT 'System'\n",
    ");\n",
    "''' \n",
    "    \n",
    "engine.execute(schema_final_string)"
   ]
  },
  {
   "cell_type": "markdown",
   "metadata": {},
   "source": [
    "## PATHOS_CL_MASTER_COUNTRY"
   ]
  },
  {
   "cell_type": "code",
   "execution_count": 11,
   "metadata": {},
   "outputs": [
    {
     "data": {
      "text/plain": [
       "<sqlalchemy.engine.result.ResultProxy at 0x1557636fb50>"
      ]
     },
     "execution_count": 11,
     "metadata": {},
     "output_type": "execute_result"
    }
   ],
   "source": [
    "schema_final_string='''create table  IF NOT EXISTS pathos_iccs_schema.PATHOS_CL_MASTER_COUNTRY(\n",
    "\t\tDIM_VAL_ID \t\t\t\t\tNUMERIC \t\t\t\t\t\tPRIMARY KEY,\n",
    "\t\tDIM_VALUE_NAME\t\t\t\t\tVARCHAR(100) \t\t\t\tUNIQUE NOT NULL,\t\n",
    "\t\tDIM_VALUE_DESC\t\t\t\t\tVARCHAR(100) \t\t\t\t,\t\n",
    "\t\tDIM_ACTIVE_REPORTING\t\t\tCHAR(1) \t\t\t\t\tNOT NULL,\t\n",
    "\t\tDIM_ACTIVE_PROCESSSING\t\t\tCHAR(1) \t\t\t\t\t,\t\t\n",
    "\t\tCHILD_RECORD\t\t\t\t\tCHAR(1) \t\t\t\t\t,\t\t\n",
    "\t\tPARENT_RECORD_ID \t\t\t\tNUMERIC\t\t\t\t\t\tDEFAULT NULL, \t\t\t\n",
    "\t\tHIERARCHY_LEVEL\t\t\t\t\tNUMERIC\t\t\t\t\t\tNOT NULL,\t\t\t\n",
    "\t\tCREATED_ON \tTIMESTAMP WITH TIME ZONE \tDEFAULT CURRENT_TIMESTAMP NOT NULL,\n",
    "\t\tCREATED_BY \tVARCHAR(100)\t\t\t\tNOT NULL DEFAULT 'System',\n",
    "\t\tUPDATED_ON \tTIMESTAMP WITH TIME ZONE \tDEFAULT CURRENT_TIMESTAMP NOT NULL,\n",
    "\t\tUPDATED_BY \tVARCHAR(100)\t\t\t\tNOT NULL DEFAULT 'System'\n",
    ");\n",
    "''' \n",
    "    \n",
    "engine.execute(schema_final_string)"
   ]
  },
  {
   "cell_type": "markdown",
   "metadata": {},
   "source": [
    "## pathos_cl_master_personas"
   ]
  },
  {
   "cell_type": "code",
   "execution_count": 2,
   "metadata": {},
   "outputs": [
    {
     "data": {
      "text/plain": [
       "<sqlalchemy.engine.result.ResultProxy at 0x2ce696786a0>"
      ]
     },
     "execution_count": 2,
     "metadata": {},
     "output_type": "execute_result"
    }
   ],
   "source": [
    "schema_final_string='''create table  IF NOT EXISTS pathos_iccs_schema.pathos_cl_master_personas(\n",
    "\t\tPERSONA_ID \t\t\t\t\tNUMERIC \t\t\t\t\t\tPRIMARY KEY,\n",
    "\t\tPERSONA_NAME\t\t\t\t\tVARCHAR(100) \t\t\t\tUNIQUE NOT NULL,\t\n",
    "\t\tPERSONA\t\t\t\t\tVARCHAR(100) \t\t\t\tUNIQUE NOT NULL,\n",
    "\t\tage_id\t\t\t\t\tVARCHAR(100) \t\t\t\t,\t\n",
    "\t\tgender_id\t\t\tVARCHAR(100) \t\t\t\t\t,\n",
    "        income_id\t\t\tVARCHAR(100) \t\t\t\t\t,\n",
    "        occupation_id\t\t\tVARCHAR(100) \t\t\t\t\t,\n",
    "        location_id\t\t\tVARCHAR(100) \t\t\t\t\t,\n",
    "        TIME_ID\t\t\tVARCHAR(100) \t\t\t\t\t,\n",
    "        COUNTRY_ID\t\t\tVARCHAR(100) \t\t\t\t\t,\n",
    "        channel_id VARCHAR(100) \t\t\t\t\t,\n",
    "\t\tCREATED_ON \tTIMESTAMP WITH TIME ZONE \tDEFAULT CURRENT_TIMESTAMP NOT NULL,\n",
    "\t\tCREATED_BY \tVARCHAR(100)\t\t\t\tNOT NULL DEFAULT 'System',\n",
    "\t\tUPDATED_ON \tTIMESTAMP WITH TIME ZONE \tDEFAULT CURRENT_TIMESTAMP NOT NULL,\n",
    "\t\tUPDATED_BY \tVARCHAR(100)\t\t\t\tNOT NULL DEFAULT 'System'\n",
    ");\n",
    "''' \n",
    "  \n",
    "engine.execute(schema_final_string)"
   ]
  },
  {
   "cell_type": "code",
   "execution_count": null,
   "metadata": {},
   "outputs": [],
   "source": []
  },
  {
   "cell_type": "markdown",
   "metadata": {},
   "source": [
    "# Generic schema"
   ]
  },
  {
   "cell_type": "markdown",
   "metadata": {},
   "source": [
    "## PATHOS_CL_TRANSACTION_TABLE"
   ]
  },
  {
   "cell_type": "code",
   "execution_count": 4,
   "metadata": {},
   "outputs": [
    {
     "data": {
      "text/plain": [
       "<sqlalchemy.engine.result.ResultProxy at 0x1d6f9d76ca0>"
      ]
     },
     "execution_count": 4,
     "metadata": {},
     "output_type": "execute_result"
    }
   ],
   "source": [
    "schema_final_string='''create table  IF NOT EXISTS pathos_iccs_schema.ICCS_TRANSACTION_TABLE(\n",
    "\t\tPATHOS_TRANSACTION_ID \t\t\t\tNUMERIC \t\t\t\t\tPRIMARY KEY,\n",
    "        id    NUMERIC,\n",
    "\t\tCLIENT_TRANSACTION_ID \t\t\t\tVARCHAR(100) \t\t\t\tUNIQUE,\n",
    "\t\tCLIENT_TRANSACTION_DATE \t\t\tVARCHAR(100) \t\t\t,\n",
    "\t\tMESSAGE_DESC\t\t\t\t\t\tTEXT\t\t\t\t\t,\n",
    "        q5a_1 NUMERIC,\n",
    "        q5a_2 NUMERIC,\n",
    "        q5a_3 NUMERIC,\n",
    "        q5a_4 NUMERIC,\n",
    "        q5a_5 NUMERIC,\n",
    "        q5a_6 NUMERIC,\n",
    "        q5a_7 NUMERIC,\n",
    "        q5a_8 NUMERIC,\n",
    "        q5a_9 NUMERIC,\n",
    "        q5a_10   NUMERIC,\n",
    "        q5b_1   NUMERIC,\n",
    "        q5b_2   NUMERIC,\n",
    "        q5b_3   NUMERIC,\n",
    "        q5b_4   NUMERIC,\n",
    "        q5b_5   NUMERIC,\n",
    "        q5b_6   NUMERIC,\n",
    "        q5b_7   NUMERIC,\n",
    "        q5b_8   NUMERIC,\n",
    "        q5b_9   NUMERIC,\n",
    "        q6_1   NUMERIC,\n",
    "        q6_2   NUMERIC,\n",
    "        q6_3   NUMERIC,\n",
    "        q6_4   NUMERIC,\n",
    "        q6_5   NUMERIC,\n",
    "        q6_6   NUMERIC,\n",
    "        q6_7   NUMERIC,\n",
    "        q6_8   NUMERIC,\n",
    "        q6_9  NUMERIC,\n",
    "        q6_10   NUMERIC,\n",
    "        q6_11   NUMERIC,\n",
    "        q8a_1   NUMERIC,\n",
    "        q8a_2   NUMERIC,\n",
    "        q8a_3   NUMERIC,\n",
    "        q8a_4   NUMERIC,\n",
    "        q8a_5  NUMERIC,\n",
    "        q8a_6   NUMERIC,\n",
    "        q8a_7   NUMERIC,\n",
    "        q8a_8   NUMERIC,\n",
    "        q8a_9   NUMERIC,\n",
    "        q8b_1   NUMERIC,\n",
    "        q8b_2   NUMERIC,\n",
    "        q8b_3   NUMERIC,\n",
    "        q8b_4   NUMERIC,\n",
    "        q8b_5   NUMERIC,\n",
    "        q8b_6   NUMERIC,\n",
    "        q8c_1   NUMERIC,\n",
    "        q8c_2   NUMERIC,\n",
    "        q8c_3   NUMERIC,\n",
    "        q8c_4   NUMERIC,\n",
    "        q8c_5   NUMERIC,\n",
    "        q8c_6   NUMERIC,\n",
    "        q8d_1   NUMERIC,\n",
    "        q8d_2   NUMERIC,\n",
    "        q8d_3   NUMERIC,\n",
    "        q8d_4   NUMERIC,\n",
    "        q8d_5   NUMERIC,\n",
    "        q8e_1   NUMERIC,\n",
    "        q8e_2   NUMERIC,\n",
    "        q8e_3   NUMERIC,\n",
    "        q8e_4   NUMERIC,\n",
    "        q8f_1   NUMERIC,\n",
    "        q8f_2   NUMERIC,\n",
    "        q8f_3   NUMERIC,\n",
    "        q8f_4  NUMERIC,\n",
    "        q8f_5   NUMERIC,\n",
    "        q8f_6   NUMERIC,\n",
    "        q8f_7   NUMERIC,\n",
    "        q8f_8   NUMERIC,\n",
    "        q8g_1   NUMERIC,\n",
    "        q8g_2   NUMERIC,\n",
    "        q8g_3   NUMERIC,\n",
    "        q8g_4   NUMERIC,\n",
    "        q8g_5   NUMERIC,\n",
    "        q8g_6   NUMERIC,\n",
    "        q8g_7   NUMERIC,\n",
    "        q8g_8  NUMERIC,\n",
    "        q8g_9    NUMERIC,\n",
    "        q5_01   NUMERIC,\n",
    "        q5_02  NUMERIC,\n",
    "        q5_03   NUMERIC,\n",
    "        q5_04    NUMERIC,\n",
    "        q5_05   NUMERIC,\n",
    "        q5_06   NUMERIC,\n",
    "        q5_07   NUMERIC,\n",
    "        q5_08   NUMERIC,\n",
    "        q5_09   NUMERIC,\n",
    "        q5_10   NUMERIC,\n",
    "        q5_11  NUMERIC,\n",
    "        q5_12    NUMERIC,\n",
    "        q5_13   NUMERIC,\n",
    "        q5_14   NUMERIC,\n",
    "        q5_15   NUMERIC,\n",
    "        q5_16  NUMERIC,\n",
    "        q5_17 NUMERIC,\n",
    "        q5_18  NUMERIC,\n",
    "        q6_01 NUMERIC,\n",
    "        q6_02 NUMERIC,\n",
    "        q6_03  NUMERIC,\n",
    "        q6_04 NUMERIC,\n",
    "        q6_05 NUMERIC,\n",
    "        q6_06 NUMERIC,\n",
    "        q6_07 NUMERIC,\n",
    "        q6_08 NUMERIC,\n",
    "        q6_09 NUMERIC,\n",
    "        q8a_01 NUMERIC,\n",
    "        q8a_02 NUMERIC,\n",
    "        q8a_03 NUMERIC,\n",
    "        q8a_04 NUMERIC,\n",
    "        q8a_05 NUMERIC,\n",
    "        q8a_06 NUMERIC,\n",
    "        q8b_01  NUMERIC,\n",
    "        q8b_02 NUMERIC,\n",
    "        q8b_03 NUMERIC,\n",
    "        q8b_04 NUMERIC,\n",
    "        q8b_05 NUMERIC,\n",
    "        q8b_06 NUMERIC,\n",
    "        q8c_01 NUMERIC,\n",
    "        q8c_02 NUMERIC,\n",
    "        q8c_03 NUMERIC,\n",
    "        q8c_04 NUMERIC,\n",
    "        q8c_05 NUMERIC,\n",
    "        q8d_01 NUMERIC,\n",
    "        q8d_02 NUMERIC,\n",
    "        q8d_03 NUMERIC,\n",
    "        q8d_04 NUMERIC,\n",
    "        q8d_05 NUMERIC,\n",
    "        q8e_01 NUMERIC,\n",
    "        q8e_02 NUMERIC,\n",
    "        q8e_03 NUMERIC,\n",
    "        q8e_04 NUMERIC,\n",
    "        q8f_01 NUMERIC,\n",
    "        q8f_02 NUMERIC,\n",
    "        q8f_03 NUMERIC,\n",
    "        q8f_04 NUMERIC,\n",
    "        q8f_05 NUMERIC,\n",
    "        q8f_06 NUMERIC,\n",
    "        q8f_07 NUMERIC,\n",
    "        q8g_01 NUMERIC,\n",
    "        q8g_02 NUMERIC,\n",
    "        q8g_03 NUMERIC,\n",
    "        q8g_04 NUMERIC,\n",
    "        q8g_05 NUMERIC,\n",
    "        q8g_06 NUMERIC,\n",
    "        q8g_07 NUMERIC,\n",
    "        gender_id   NUMERIC,\n",
    "        age_id   NUMERIC,\n",
    "        occupation_id   NUMERIC,\n",
    "        income_id  NUMERIC,\n",
    "\n",
    "        time_id\t\t\t\t\t\tNUMERIC,\n",
    "        channel_id NUMERIC,\n",
    "        country_id NUMERIC,\n",
    "        year\t\t\t\t\t\tNUMERIC,\n",
    "        people_score DECIMAL,\n",
    "        process_score DECIMAL,\n",
    "        product_score DECIMAL,\n",
    "        intent_score DECIMAL,\n",
    "        loyalty_score DECIMAL,\n",
    "        values_score DECIMAL,\n",
    "        VERSION_ID VARCHAR(100),\n",
    "        all_pathos   TEXT,\n",
    "\n",
    "\t\tEMOTIONS_SCORE\t\t\t\t\t\tDECIMAL,\n",
    "\t\tDRIVERS_SCORE\t\t\t\t\t\tDECIMAL,\n",
    "\t\tEMOTIONAL_ENGAGEMENT_SCORE\t\t\tDECIMAL,\n",
    "        n_emotional_engagement_score        DECIMAL, \n",
    "        emotional_engagement_quintile       TEXT,\n",
    "\t\n",
    "\t\tEMOTIONS_Surprised_SCORE\t\t\tDECIMAL,\n",
    "\t\tEMOTIONS_Happy_SCORE\t\t\t\tDECIMAL,\n",
    "\t\tEMOTIONS_Excited_SCORE \t\t\t\tDECIMAL,\n",
    "\t\tEMOTIONS_Sad_SCORE\t\t\t\t\tDECIMAL,\n",
    "\t\tEMOTIONS_Disgust_SCORE\t\t\t\tDECIMAL,\t\n",
    "\t\tEMOTIONS_Angry_SCORE\t\t\t\tDECIMAL,\t\n",
    "\t\tEMOTIONS_Fear_SCORE\t\t\t\t\tDECIMAL,\t\t\n",
    "\t\tEMOTIONS_Frustration_SCORE\t\t\tDECIMAL,\n",
    "\n",
    "\t\tDRIVERS_Personalization_SCORE\t\t\t\tDECIMAL,\t\t\n",
    "\t\tDRIVERS_Positivity_SCORE\t\t\t\t\tDECIMAL,\t\t\n",
    "\t\tDRIVERS_Well_being_SCORE\t\t\t\t\tDECIMAL,\t\t\n",
    "\t\tDRIVERS_Exciting_SCORE\t\t\t\t\t    DECIMAL,\t\t\n",
    "\t\tDRIVERS_Belonging_SCORE\t\t\t\t\t    DECIMAL,\t\t\n",
    "\t\tDRIVERS_Sustainability_SCORE\t\t\t\tDECIMAL,\t\t\n",
    "\t\tDRIVERS_Security_SCORE\t\t\t\t\t    DECIMAL,\t\t\n",
    "\t\tDRIVERS_Convenience_SCORE\t\t\t\t\tDECIMAL,\t\t\n",
    "\t\tDRIVERS_Care_SCORE\t\t\t\t\t        DECIMAL,\t\t\n",
    "\t\tDRIVERS_Timeliness_SCORE\t\t\t\t\tDECIMAL,\t\t\n",
    "\t\tDRIVERS_Respect_SCORE\t\t\t\t\t    DECIMAL,\t\t\n",
    "\t\tDRIVERS_Knowledge_SCORE\t\t\t\t\t    DECIMAL,\t\t\n",
    "\t\tDRIVERS_Fairness_SCORE\t\t\t\t\t    DECIMAL,\t\t\n",
    "\t\tDRIVERS_Channel_Satisfaction_SCORE\t\t\tDECIMAL,\t\t\n",
    "\t\tDRIVERS_Outcome_SCORE\t\t\t\t\t    DECIMAL,\t\t\n",
    "\t\tDRIVERS_Communication_SCORE\t\t\t\t\tDECIMAL,\t\t\n",
    "\t\tDRIVERS_Ease_of_access_SCORE\t\t\t\tDECIMAL,\t\t\n",
    "\t\tDRIVERS_Future_issues_SCORE\t\t\t\t\tDECIMAL,\t\t\n",
    "\t\tDRIVERS_Competence_SCORE\t\t\t\t\tDECIMAL,\t\t\n",
    "\t\tDRIVERS_Extra_mile_SCORE\t\t\t\t\tDECIMAL,\t\t\n",
    "\t\tDRIVERS_Waiting_time_SCORE\t\t\t\t\tDECIMAL,\t\t\n",
    "\t\tDRIVERS_Appeal_SCORE\t\t\t\t\t    DECIMAL,\t\t\n",
    "\t\tDRIVERS_Preferred_chanel_SCORE\t\t\t\tDECIMAL,\t\t\n",
    "\t\tDRIVERS_Freshness_SCORE\t\t\t\t\t    DECIMAL,\t\t\n",
    "\t\tDRIVERS_Trust_SCORE\t\t\t\t\t        DECIMAL,\t\t\n",
    "\t\tDRIVERS_Regret_SCORE\t\t\t\t\t    DECIMAL,\t\t\n",
    "\t\tDRIVERS_Relationship_SCORE\t\t\t\t\tDECIMAL,\t\t\n",
    "\t\tDRIVERS_Innovative_SCORE\t\t\t\t\tDECIMAL,\t\t\n",
    "\t\tDRIVERS_Value_for_Money_SCORE\t\t\t\tDECIMAL,\t\t\n",
    "\t\tDRIVERS_Packaging_SCORE\t\t\t\t\t    DECIMAL,\t\t\n",
    "\n",
    "\t\n",
    "\t\tBEHAVIOUR_ENABLERL_POSITIVE_SCORE\tDECIMAL,\n",
    "\t\tBEHAVIOUR_QUAL_POSITIVE_COMMENTS\t\tVARCHAR(4000),\n",
    "\t\tBEHAVIOUR_ENABLERL_NEGATIVE_SCORE\tDECIMAL,\t\n",
    "\t\tBEHAVIOUR_QUAL_NEGATIVE_COMMENTS\t\tVARCHAR(4000),\t\n",
    "\t\n",
    "\t\tBEHAVIOUR_SCORE\t\t\t\t\t\tDECIMAL,\n",
    "\t\tPOSITIVE_SCORE_BY_WEIGHTS\t\t\tDECIMAL,\t\n",
    "\t\tNEGATIVE_SCORE_BY_WEIGHTS\t\t\tDECIMAL,\n",
    "        \n",
    "        DATE TIMESTAMP WITHOUT TIME ZONE,\n",
    "\n",
    "\t\tCREATED_ON \tTIMESTAMP WITH TIME ZONE \tDEFAULT CURRENT_TIMESTAMP NOT NULL,\n",
    "\t\tCREATED_BY \tVARCHAR(100)\t\t\t\tNOT NULL DEFAULT 'System',\n",
    "\t\tUPDATED_ON \tTIMESTAMP WITH TIME ZONE \tDEFAULT CURRENT_TIMESTAMP NOT NULL,\n",
    "\t\tUPDATED_BY \tVARCHAR(100)\t\t\t\tNOT NULL DEFAULT 'System'\n",
    ");\n",
    "''' \n",
    "    \n",
    "engine.execute(schema_final_string)"
   ]
  },
  {
   "cell_type": "markdown",
   "metadata": {},
   "source": [
    "## PATHOS_CL_SUMMARY_TABLE"
   ]
  },
  {
   "cell_type": "code",
   "execution_count": 3,
   "metadata": {},
   "outputs": [
    {
     "data": {
      "text/plain": [
       "<sqlalchemy.engine.result.ResultProxy at 0x1c3a43e3700>"
      ]
     },
     "execution_count": 3,
     "metadata": {},
     "output_type": "execute_result"
    }
   ],
   "source": [
    "schema_final_string='''create table  IF NOT EXISTS pathos_iccs_schema.ICCS_SUMMARY_TABLE(\n",
    "\t\tPATHOS_SUMMARY_ID \t\t\t\tNUMERIC \t\t\t\t\tPRIMARY KEY,\n",
    "        review_id    TEXT,\n",
    "\t\tCLIENT_TRANSACTION_ID \t\t\t\tVARCHAR(100) \t\t\t\tUNIQUE,\n",
    "\t\tCLIENT_TRANSACTION_DATE \t\t\tVARCHAR(100) \t\t\t,\n",
    "\t\tMESSAGE_DESC\t\t\t\t\t\tTEXT\t\t\t\t\t,\n",
    "\t\tq5a_1 NUMERIC,\n",
    "        q5a_2 NUMERIC,\n",
    "        q5a_3 NUMERIC,\n",
    "        q5a_4 NUMERIC,\n",
    "        q5a_5 NUMERIC,\n",
    "        q5a_6 NUMERIC,\n",
    "        q5a_7 NUMERIC,\n",
    "        q5a_8 NUMERIC,\n",
    "        q5a_9 NUMERIC,\n",
    "        q5a_10   NUMERIC,\n",
    "        q5b_1   NUMERIC,\n",
    "        q5b_2   NUMERIC,\n",
    "        q5b_3   NUMERIC,\n",
    "        q5b_4   NUMERIC,\n",
    "        q5b_5   NUMERIC,\n",
    "        q5b_6   NUMERIC,\n",
    "        q5b_7   NUMERIC,\n",
    "        q5b_8   NUMERIC,\n",
    "        q5b_9   NUMERIC,\n",
    "        q6_1   NUMERIC,\n",
    "        q6_2   NUMERIC,\n",
    "        q6_3   NUMERIC,\n",
    "        q6_4   NUMERIC,\n",
    "        q6_5   NUMERIC,\n",
    "        q6_6   NUMERIC,\n",
    "        q6_7   NUMERIC,\n",
    "        q6_8   NUMERIC,\n",
    "        q6_9  NUMERIC,\n",
    "        q6_10   NUMERIC,\n",
    "        q6_11   NUMERIC,\n",
    "        q8a_1   NUMERIC,\n",
    "        q8a_2   NUMERIC,\n",
    "        q8a_3   NUMERIC,\n",
    "        q8a_4   NUMERIC,\n",
    "        q8a_5  NUMERIC,\n",
    "        q8a_6   NUMERIC,\n",
    "        q8a_7   NUMERIC,\n",
    "        q8a_8   NUMERIC,\n",
    "        q8a_9   NUMERIC,\n",
    "        q8b_1   NUMERIC,\n",
    "        q8b_2   NUMERIC,\n",
    "        q8b_3   NUMERIC,\n",
    "        q8b_4   NUMERIC,\n",
    "        q8b_5   NUMERIC,\n",
    "        q8b_6   NUMERIC,\n",
    "        q8c_1   NUMERIC,\n",
    "        q8c_2   NUMERIC,\n",
    "        q8c_3   NUMERIC,\n",
    "        q8c_4   NUMERIC,\n",
    "        q8c_5   NUMERIC,\n",
    "        q8c_6   NUMERIC,\n",
    "        q8d_1   NUMERIC,\n",
    "        q8d_2   NUMERIC,\n",
    "        q8d_3   NUMERIC,\n",
    "        q8d_4   NUMERIC,\n",
    "        q8d_5   NUMERIC,\n",
    "        q8e_1   NUMERIC,\n",
    "        q8e_2   NUMERIC,\n",
    "        q8e_3   NUMERIC,\n",
    "        q8e_4   NUMERIC,\n",
    "        q8f_1   NUMERIC,\n",
    "        q8f_2   NUMERIC,\n",
    "        q8f_3   NUMERIC,\n",
    "        q8f_4  NUMERIC,\n",
    "        q8f_5   NUMERIC,\n",
    "        q8f_6   NUMERIC,\n",
    "        q8f_7   NUMERIC,\n",
    "        q8f_8   NUMERIC,\n",
    "        q8g_1   NUMERIC,\n",
    "        q8g_2   NUMERIC,\n",
    "        q8g_3   NUMERIC,\n",
    "        q8g_4   NUMERIC,\n",
    "        q8g_5   NUMERIC,\n",
    "        q8g_6   NUMERIC,\n",
    "        q8g_7   NUMERIC,\n",
    "        q8g_8  NUMERIC,\n",
    "        q8g_9    NUMERIC,\n",
    "        q5_01   NUMERIC,\n",
    "        q5_02  NUMERIC,\n",
    "        q5_03   NUMERIC,\n",
    "        q5_04    NUMERIC,\n",
    "        q5_05   NUMERIC,\n",
    "        q5_06   NUMERIC,\n",
    "        q5_07   NUMERIC,\n",
    "        q5_08   NUMERIC,\n",
    "        q5_09   NUMERIC,\n",
    "        q5_10   NUMERIC,\n",
    "        q5_11  NUMERIC,\n",
    "        q5_12    NUMERIC,\n",
    "        q5_13   NUMERIC,\n",
    "        q5_14   NUMERIC,\n",
    "        q5_15   NUMERIC,\n",
    "        q5_16  NUMERIC,\n",
    "        q5_17 NUMERIC,\n",
    "        q5_18  NUMERIC,\n",
    "        q6_01 NUMERIC,\n",
    "        q6_02 NUMERIC,\n",
    "        q6_03  NUMERIC,\n",
    "        q6_04 NUMERIC,\n",
    "        q6_05 NUMERIC,\n",
    "        q6_06 NUMERIC,\n",
    "        q6_07 NUMERIC,\n",
    "        q6_08 NUMERIC,\n",
    "        q6_09 NUMERIC,\n",
    "        q8a_01 NUMERIC,\n",
    "        q8a_02 NUMERIC,\n",
    "        q8a_03 NUMERIC,\n",
    "        q8a_04 NUMERIC,\n",
    "        q8a_05 NUMERIC,\n",
    "        q8a_06 NUMERIC,\n",
    "        q8b_01  NUMERIC,\n",
    "        q8b_02 NUMERIC,\n",
    "        q8b_03 NUMERIC,\n",
    "        q8b_04 NUMERIC,\n",
    "        q8b_05 NUMERIC,\n",
    "        q8b_06 NUMERIC,\n",
    "        q8c_01 NUMERIC,\n",
    "        q8c_02 NUMERIC,\n",
    "        q8c_03 NUMERIC,\n",
    "        q8c_04 NUMERIC,\n",
    "        q8c_05 NUMERIC,\n",
    "        q8d_01 NUMERIC,\n",
    "        q8d_02 NUMERIC,\n",
    "        q8d_03 NUMERIC,\n",
    "        q8d_04 NUMERIC,\n",
    "        q8d_05 NUMERIC,\n",
    "        q8e_01 NUMERIC,\n",
    "        q8e_02 NUMERIC,\n",
    "        q8e_03 NUMERIC,\n",
    "        q8e_04 NUMERIC,\n",
    "        q8f_01 NUMERIC,\n",
    "        q8f_02 NUMERIC,\n",
    "        q8f_03 NUMERIC,\n",
    "        q8f_04 NUMERIC,\n",
    "        q8f_05 NUMERIC,\n",
    "        q8f_06 NUMERIC,\n",
    "        q8f_07 NUMERIC,\n",
    "        q8g_01 NUMERIC,\n",
    "        q8g_02 NUMERIC,\n",
    "        q8g_03 NUMERIC,\n",
    "        q8g_04 NUMERIC,\n",
    "        q8g_05 NUMERIC,\n",
    "        q8g_06 NUMERIC,\n",
    "        q8g_07 NUMERIC,\n",
    "        gender_id   NUMERIC,\n",
    "        age_id   NUMERIC,\n",
    "        occupation_id   NUMERIC,\n",
    "        income_id  NUMERIC,\n",
    "        jurisdiction TEXT,\n",
    "        pos_score DECIMAL,\n",
    "        neg_score DECIMAL,\n",
    "        location TEXT,\n",
    "        location_id NUMERIC,\n",
    "\n",
    "        time_id\t\t\t\t\t\tNUMERIC,\n",
    "        channel_id NUMERIC,\n",
    "        country_id NUMERIC,\n",
    "        year\t\t\t\t\t\tNUMERIC,\n",
    "        gender TEXT,\n",
    "        age TEXT,\n",
    "        occupation TEXT,\n",
    "        income TEXT,\n",
    "        channel TEXT,\n",
    "        people_score DECIMAL,\n",
    "        process_score DECIMAL,\n",
    "        product_score DECIMAL,\n",
    "        intent_score DECIMAL,\n",
    "        loyalty_score DECIMAL,\n",
    "        values_score DECIMAL,\n",
    "        VERSION_ID VARCHAR(100),\n",
    "        all_pathos   TEXT,\n",
    "\n",
    "\t\tEMOTIONS_SCORE\t\t\t\t\t\tDECIMAL,\n",
    "\t\tDRIVERS_SCORE\t\t\t\t\t\tDECIMAL,\n",
    "\t\tEMOTIONAL_ENGAGEMENT_SCORE\t\t\tDECIMAL,\n",
    "        n_emotional_engagement_score        DECIMAL, \n",
    "        emotional_engagement_quintile       TEXT,\n",
    "\t\n",
    "\t\tEMOTIONS_Surprised_SCORE\t\t\tDECIMAL,\n",
    "\t\tEMOTIONS_Happy_SCORE\t\t\t\tDECIMAL,\n",
    "\t\tEMOTIONS_Excited_SCORE \t\t\t\tDECIMAL,\n",
    "\t\tEMOTIONS_Sad_SCORE\t\t\t\t\tDECIMAL,\n",
    "\t\tEMOTIONS_Disgust_SCORE\t\t\t\tDECIMAL,\t\n",
    "\t\tEMOTIONS_Angry_SCORE\t\t\t\tDECIMAL,\t\n",
    "\t\tEMOTIONS_Fear_SCORE\t\t\t\t\tDECIMAL,\t\t\n",
    "\t\tEMOTIONS_Frustration_SCORE\t\t\tDECIMAL,\n",
    "\n",
    "\t\tDRIVERS_Personalization_SCORE\t\t\t\tDECIMAL,\t\t\n",
    "\t\tDRIVERS_Positivity_SCORE\t\t\t\t\tDECIMAL,\t\t\n",
    "\t\tDRIVERS_Well_being_SCORE\t\t\t\t\tDECIMAL,\t\t\n",
    "\t\tDRIVERS_Exciting_SCORE\t\t\t\t\t    DECIMAL,\t\t\n",
    "\t\tDRIVERS_Belonging_SCORE\t\t\t\t\t    DECIMAL,\t\t\n",
    "\t\tDRIVERS_Sustainability_SCORE\t\t\t\tDECIMAL,\t\t\n",
    "\t\tDRIVERS_Security_SCORE\t\t\t\t\t    DECIMAL,\t\t\n",
    "\t\tDRIVERS_Convenience_SCORE\t\t\t\t\tDECIMAL,\t\t\n",
    "\t\tDRIVERS_Care_SCORE\t\t\t\t\t        DECIMAL,\t\t\n",
    "\t\tDRIVERS_Timeliness_SCORE\t\t\t\t\tDECIMAL,\t\t\n",
    "\t\tDRIVERS_Respect_SCORE\t\t\t\t\t    DECIMAL,\t\t\n",
    "\t\tDRIVERS_Knowledge_SCORE\t\t\t\t\t    DECIMAL,\t\t\n",
    "\t\tDRIVERS_Fairness_SCORE\t\t\t\t\t    DECIMAL,\t\t\n",
    "\t\tDRIVERS_Channel_Satisfaction_SCORE\t\t\tDECIMAL,\t\t\n",
    "\t\tDRIVERS_Outcome_SCORE\t\t\t\t\t    DECIMAL,\t\t\n",
    "\t\tDRIVERS_Communication_SCORE\t\t\t\t\tDECIMAL,\t\t\n",
    "\t\tDRIVERS_Ease_of_access_SCORE\t\t\t\tDECIMAL,\t\t\n",
    "\t\tDRIVERS_Future_issues_SCORE\t\t\t\t\tDECIMAL,\t\t\n",
    "\t\tDRIVERS_Competence_SCORE\t\t\t\t\tDECIMAL,\t\t\n",
    "\t\tDRIVERS_Extra_mile_SCORE\t\t\t\t\tDECIMAL,\t\t\n",
    "\t\tDRIVERS_Waiting_time_SCORE\t\t\t\t\tDECIMAL,\t\t\n",
    "\t\tDRIVERS_Appeal_SCORE\t\t\t\t\t    DECIMAL,\t\t\n",
    "\t\tDRIVERS_Preferred_chanel_SCORE\t\t\t\tDECIMAL,\t\t\n",
    "\t\tDRIVERS_Freshness_SCORE\t\t\t\t\t    DECIMAL,\t\t\n",
    "\t\tDRIVERS_Trust_SCORE\t\t\t\t\t        DECIMAL,\t\t\n",
    "\t\tDRIVERS_Regret_SCORE\t\t\t\t\t    DECIMAL,\t\t\n",
    "\t\tDRIVERS_Relationship_SCORE\t\t\t\t\tDECIMAL,\t\t\n",
    "\t\tDRIVERS_Innovative_SCORE\t\t\t\t\tDECIMAL,\t\t\n",
    "\t\tDRIVERS_Value_for_Money_SCORE\t\t\t\tDECIMAL,\t\t\n",
    "\t\tDRIVERS_Packaging_SCORE\t\t\t\t\t    DECIMAL,\t\t\n",
    "\n",
    "\t\n",
    "\t\tBEHAVIOUR_ENABLERL_POSITIVE_SCORE\tDECIMAL,\n",
    "\t\tBEHAVIOUR_QUAL_POSITIVE_COMMENTS\t\tVARCHAR(4000),\n",
    "\t\tBEHAVIOUR_ENABLERL_NEGATIVE_SCORE\tDECIMAL,\t\n",
    "\t\tBEHAVIOUR_QUAL_NEGATIVE_COMMENTS\t\tVARCHAR(4000),\t\n",
    "\t\n",
    "\t\tBEHAVIOUR_SCORE\t\t\t\t\t\tDECIMAL,\n",
    "\t\tPOSITIVE_SCORE_BY_WEIGHTS\t\t\tDECIMAL,\t\n",
    "\t\tNEGATIVE_SCORE_BY_WEIGHTS\t\t\tDECIMAL,\n",
    "        \n",
    "        DATE TIMESTAMP WITHOUT TIME ZONE,\n",
    "\n",
    "\t\tCREATED_ON \tTIMESTAMP WITH TIME ZONE \tDEFAULT CURRENT_TIMESTAMP NOT NULL,\n",
    "\t\tCREATED_BY \tVARCHAR(100)\t\t\t\tNOT NULL DEFAULT 'System',\n",
    "\t\tUPDATED_ON \tTIMESTAMP WITH TIME ZONE \tDEFAULT CURRENT_TIMESTAMP NOT NULL,\n",
    "\t\tUPDATED_BY \tVARCHAR(100)\t\t\t\tNOT NULL DEFAULT 'System'\n",
    ");\n",
    "''' \n",
    "    \n",
    "engine.execute(schema_final_string)"
   ]
  },
  {
   "cell_type": "code",
   "execution_count": 15,
   "metadata": {},
   "outputs": [
    {
     "ename": "NameError",
     "evalue": "name 'x' is not defined",
     "output_type": "error",
     "traceback": [
      "\u001b[1;31m---------------------------------------------------------------------------\u001b[0m",
      "\u001b[1;31mNameError\u001b[0m                                 Traceback (most recent call last)",
      "\u001b[1;32m<ipython-input-15-82934ca933ee>\u001b[0m in \u001b[0;36m<module>\u001b[1;34m\u001b[0m\n\u001b[1;32m----> 1\u001b[1;33m \u001b[1;33m-\u001b[0m\u001b[0mx\u001b[0m\u001b[1;33m-\u001b[0m\u001b[0mx\u001b[0m\u001b[1;33m-\u001b[0m\u001b[0mx\u001b[0m\u001b[1;33m-\u001b[0m\u001b[0mx\u001b[0m\u001b[1;33m-\u001b[0m\u001b[0mx\u001b[0m\u001b[1;33m-\u001b[0m\u001b[0mx\u001b[0m\u001b[1;33m-\u001b[0m\u001b[0mx\u001b[0m\u001b[1;33m-\u001b[0m\u001b[0mx\u001b[0m\u001b[1;33m-\u001b[0m\u001b[0mx\u001b[0m\u001b[1;33m-\u001b[0m\u001b[0mx\u001b[0m\u001b[1;33m-\u001b[0m\u001b[0mx\u001b[0m\u001b[1;33m-\u001b[0m\u001b[0mxx\u001b[0m\u001b[1;33m-\u001b[0m\u001b[0mx\u001b[0m\u001b[1;33m-\u001b[0m\u001b[0mx\u001b[0m\u001b[1;33m-\u001b[0m\u001b[0mx\u001b[0m\u001b[1;33m-\u001b[0m\u001b[0mx\u001b[0m\u001b[1;33m-\u001b[0m\u001b[0mx\u001b[0m\u001b[1;33m-\u001b[0m\u001b[0mx\u001b[0m\u001b[1;33m\u001b[0m\u001b[1;33m\u001b[0m\u001b[0m\n\u001b[0m",
      "\u001b[1;31mNameError\u001b[0m: name 'x' is not defined"
     ]
    }
   ],
   "source": [
    "-x-x-x-x-x-x-x-x-x-x-x-xx-x-x-x-x-x-x"
   ]
  },
  {
   "cell_type": "code",
   "execution_count": null,
   "metadata": {},
   "outputs": [],
   "source": []
  },
  {
   "cell_type": "code",
   "execution_count": null,
   "metadata": {},
   "outputs": [],
   "source": []
  }
 ],
 "metadata": {
  "kernelspec": {
   "display_name": "Python 3",
   "language": "python",
   "name": "python3"
  },
  "language_info": {
   "codemirror_mode": {
    "name": "ipython",
    "version": 3
   },
   "file_extension": ".py",
   "mimetype": "text/x-python",
   "name": "python",
   "nbconvert_exporter": "python",
   "pygments_lexer": "ipython3",
   "version": "3.8.5"
  },
  "toc": {
   "base_numbering": 1,
   "nav_menu": {},
   "number_sections": true,
   "sideBar": true,
   "skip_h1_title": false,
   "title_cell": "Table of Contents",
   "title_sidebar": "Contents",
   "toc_cell": false,
   "toc_position": {},
   "toc_section_display": true,
   "toc_window_display": false
  }
 },
 "nbformat": 4,
 "nbformat_minor": 4
}
